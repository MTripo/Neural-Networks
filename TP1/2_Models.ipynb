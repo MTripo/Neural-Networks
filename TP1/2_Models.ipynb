{
  "cells": [
    {
      "cell_type": "code",
      "execution_count": 1,
      "metadata": {
        "id": "JxCoqneHzZWv"
      },
      "outputs": [],
      "source": [
        "from keras.datasets import fashion_mnist\n",
        "import numpy as np\n",
        "from matplotlib import pyplot as plt"
      ]
    },
    {
      "cell_type": "code",
      "execution_count": 2,
      "metadata": {
        "colab": {
          "base_uri": "https://localhost:8080/"
        },
        "id": "pV2lRjoRzhMp",
        "outputId": "09ef645e-5429-48bc-f417-675b9dc915cf"
      },
      "outputs": [],
      "source": [
        "(train_X, train_y), (test_X, test_y) = fashion_mnist.load_data()"
      ]
    },
    {
      "cell_type": "code",
      "execution_count": 3,
      "metadata": {},
      "outputs": [],
      "source": [
        "class_names = ['T-shirt/top', 'Trouser', 'Pullover', 'Dress', 'Coat',\n",
        "               'Sandal', 'Shirt', 'Sneaker', 'Bag', 'Ankle boot']"
      ]
    },
    {
      "attachments": {},
      "cell_type": "markdown",
      "metadata": {},
      "source": [
        "### Sparse arrays"
      ]
    },
    {
      "cell_type": "code",
      "execution_count": 4,
      "metadata": {
        "id": "t1StqxwHzuOT"
      },
      "outputs": [],
      "source": [
        "y_sparse_train = np.zeros([60000,10])\n",
        "y_sparse_test = np.zeros([10000,10])"
      ]
    },
    {
      "cell_type": "code",
      "execution_count": 5,
      "metadata": {
        "id": "KpuMnQff0lW2"
      },
      "outputs": [],
      "source": [
        "for idx in range(60000):\n",
        "    y_sparse_train[idx,train_y[idx]] = 1\n",
        "\n",
        "for idx in range(10000):\n",
        "    y_sparse_test[idx,test_y[idx]] = 1"
      ]
    },
    {
      "cell_type": "code",
      "execution_count": 6,
      "metadata": {
        "colab": {
          "base_uri": "https://localhost:8080/"
        },
        "id": "wP_2cBNL0ReV",
        "outputId": "93157214-95f5-44a1-9651-6aa561704680"
      },
      "outputs": [
        {
          "data": {
            "text/plain": [
              "array([0., 0., 0., 0., 0., 0., 0., 0., 0., 1.])"
            ]
          },
          "execution_count": 6,
          "metadata": {},
          "output_type": "execute_result"
        }
      ],
      "source": [
        "y_sparse_train[0]"
      ]
    },
    {
      "cell_type": "code",
      "execution_count": 7,
      "metadata": {
        "colab": {
          "base_uri": "https://localhost:8080/"
        },
        "id": "6s0dNSA30WAS",
        "outputId": "e1b0674c-7bbf-40e4-da96-4bff57144061"
      },
      "outputs": [
        {
          "data": {
            "text/plain": [
              "array([0., 0., 0., 0., 0., 0., 0., 0., 0., 1.])"
            ]
          },
          "execution_count": 7,
          "metadata": {},
          "output_type": "execute_result"
        }
      ],
      "source": [
        "y_sparse_test[0]"
      ]
    },
    {
      "attachments": {},
      "cell_type": "markdown",
      "metadata": {},
      "source": [
        "## Models"
      ]
    },
    {
      "cell_type": "code",
      "execution_count": 8,
      "metadata": {
        "id": "hkpldhHi0Ymr"
      },
      "outputs": [],
      "source": [
        "from sklearn.model_selection import train_test_split\n",
        "from sklearn.metrics import roc_auc_score, f1_score, precision_score, recall_score\n",
        "from tensorflow.keras.layers import Dense, Flatten, Dropout, BatchNormalization\n",
        "from tensorflow.keras.optimizers import Adam, SGD\n",
        "from tensorflow.keras.models import Sequential\n",
        "from tensorflow.keras.utils import plot_model\n",
        "from tensorflow.keras.metrics import Recall, Precision\n",
        "from tensorflow.keras.initializers import GlorotUniform, GlorotNormal, RandomNormal"
      ]
    },
    {
      "attachments": {},
      "cell_type": "markdown",
      "metadata": {},
      "source": [
        "### Softmax Regression"
      ]
    },
    {
      "cell_type": "code",
      "execution_count": 9,
      "metadata": {
        "id": "0FniugpD1yN2"
      },
      "outputs": [],
      "source": [
        "model_softmax = Sequential()"
      ]
    },
    {
      "cell_type": "code",
      "execution_count": 10,
      "metadata": {
        "id": "VQBHlpZi19_P"
      },
      "outputs": [],
      "source": [
        "model_softmax.add(Flatten(input_shape=(28,28)))"
      ]
    },
    {
      "cell_type": "code",
      "execution_count": 11,
      "metadata": {
        "id": "vc7g_gev2apS"
      },
      "outputs": [],
      "source": [
        "model_softmax.add(Dense(10, activation=\"softmax\"))"
      ]
    },
    {
      "cell_type": "code",
      "execution_count": 12,
      "metadata": {
        "colab": {
          "base_uri": "https://localhost:8080/"
        },
        "id": "RLh7bW0J2d-7",
        "outputId": "72fefc6a-cf37-41ce-cbe0-811592f5703a"
      },
      "outputs": [
        {
          "name": "stdout",
          "output_type": "stream",
          "text": [
            "Model: \"sequential\"\n",
            "_________________________________________________________________\n",
            " Layer (type)                Output Shape              Param #   \n",
            "=================================================================\n",
            " flatten (Flatten)           (None, 784)               0         \n",
            "                                                                 \n",
            " dense (Dense)               (None, 10)                7850      \n",
            "                                                                 \n",
            "=================================================================\n",
            "Total params: 7,850\n",
            "Trainable params: 7,850\n",
            "Non-trainable params: 0\n",
            "_________________________________________________________________\n"
          ]
        }
      ],
      "source": [
        "model_softmax.summary()"
      ]
    },
    {
      "cell_type": "code",
      "execution_count": 13,
      "metadata": {},
      "outputs": [
        {
          "data": {
            "image/png": "[encoded data removed]",
            "text/plain": [
              "<IPython.core.display.Image object>"
            ]
          },
          "execution_count": 13,
          "metadata": {},
          "output_type": "execute_result"
        }
      ],
      "source": [
        "plot_model(model_softmax, show_shapes=True, show_layer_names=True, to_file='softmax_model.png')"
      ]
    },
    {
      "cell_type": "code",
      "execution_count": 14,
      "metadata": {
        "id": "Fu4LHsfg2fx0"
      },
      "outputs": [],
      "source": [
        "model_softmax.compile(loss=\"categorical_crossentropy\", optimizer='adam', metrics=['accuracy'])"
      ]
    },
    {
      "cell_type": "code",
      "execution_count": 15,
      "metadata": {
        "colab": {
          "base_uri": "https://localhost:8080/"
        },
        "id": "DvNQ1f9C3Ory",
        "outputId": "1b5f8cfa-4f8d-4532-c436-497bd26313d6"
      },
      "outputs": [
        {
          "name": "stdout",
          "output_type": "stream",
          "text": [
            "Epoch 1/20\n",
            "469/469 [==============================] - 1s 2ms/step - loss: 16.2782 - accuracy: 0.7228 - val_loss: 11.9438 - val_accuracy: 0.7511\n",
            "Epoch 2/20\n",
            "469/469 [==============================] - 1s 1ms/step - loss: 9.3185 - accuracy: 0.7833 - val_loss: 9.1628 - val_accuracy: 0.7816\n",
            "Epoch 3/20\n",
            "469/469 [==============================] - 1s 1ms/step - loss: 7.9946 - accuracy: 0.7934 - val_loss: 8.9563 - val_accuracy: 0.7879\n",
            "Epoch 4/20\n",
            "469/469 [==============================] - 1s 1ms/step - loss: 7.1607 - accuracy: 0.7998 - val_loss: 8.8650 - val_accuracy: 0.7681\n",
            "Epoch 5/20\n",
            "469/469 [==============================] - 1s 1ms/step - loss: 6.6749 - accuracy: 0.8015 - val_loss: 10.1530 - val_accuracy: 0.7499\n",
            "Epoch 6/20\n",
            "469/469 [==============================] - 1s 1ms/step - loss: 6.1808 - accuracy: 0.8061 - val_loss: 7.6553 - val_accuracy: 0.7688\n",
            "Epoch 7/20\n",
            "469/469 [==============================] - 1s 1ms/step - loss: 5.8215 - accuracy: 0.8059 - val_loss: 6.0167 - val_accuracy: 0.8105\n",
            "Epoch 8/20\n",
            "469/469 [==============================] - 1s 1ms/step - loss: 5.3842 - accuracy: 0.8094 - val_loss: 8.4703 - val_accuracy: 0.7337\n",
            "Epoch 9/20\n",
            "469/469 [==============================] - 1s 1ms/step - loss: 5.5912 - accuracy: 0.8038 - val_loss: 6.3676 - val_accuracy: 0.7988\n",
            "Epoch 10/20\n",
            "469/469 [==============================] - 1s 1ms/step - loss: 5.5385 - accuracy: 0.8072 - val_loss: 7.7702 - val_accuracy: 0.7644\n",
            "Epoch 11/20\n",
            "469/469 [==============================] - 1s 1ms/step - loss: 5.2856 - accuracy: 0.8115 - val_loss: 7.7246 - val_accuracy: 0.7735\n",
            "Epoch 12/20\n",
            "469/469 [==============================] - 1s 1ms/step - loss: 4.9299 - accuracy: 0.8113 - val_loss: 5.5681 - val_accuracy: 0.8011\n",
            "Epoch 13/20\n",
            "469/469 [==============================] - 1s 1ms/step - loss: 4.7321 - accuracy: 0.8110 - val_loss: 7.1128 - val_accuracy: 0.8033\n",
            "Epoch 14/20\n",
            "469/469 [==============================] - 1s 1ms/step - loss: 4.5705 - accuracy: 0.8141 - val_loss: 5.9153 - val_accuracy: 0.7877\n",
            "Epoch 15/20\n",
            "469/469 [==============================] - 1s 1ms/step - loss: 4.7153 - accuracy: 0.8102 - val_loss: 6.5885 - val_accuracy: 0.7901\n",
            "Epoch 16/20\n",
            "469/469 [==============================] - 1s 1ms/step - loss: 4.7365 - accuracy: 0.8152 - val_loss: 5.3289 - val_accuracy: 0.8066\n",
            "Epoch 17/20\n",
            "469/469 [==============================] - 1s 1ms/step - loss: 4.4375 - accuracy: 0.8117 - val_loss: 6.0444 - val_accuracy: 0.7897\n",
            "Epoch 18/20\n",
            "469/469 [==============================] - 1s 1ms/step - loss: 4.4873 - accuracy: 0.8135 - val_loss: 5.4856 - val_accuracy: 0.8081\n",
            "Epoch 19/20\n",
            "469/469 [==============================] - 1s 1ms/step - loss: 4.5721 - accuracy: 0.8136 - val_loss: 5.2277 - val_accuracy: 0.7938\n",
            "Epoch 20/20\n",
            "469/469 [==============================] - 1s 1ms/step - loss: 4.4677 - accuracy: 0.8126 - val_loss: 6.2117 - val_accuracy: 0.7761\n"
          ]
        }
      ],
      "source": [
        "history_softmax = model_softmax.fit(x=train_X, y=y_sparse_train, validation_data=(test_X, y_sparse_test), batch_size=128, epochs=20)"
      ]
    },
    {
      "attachments": {},
      "cell_type": "markdown",
      "metadata": {},
      "source": [
        "## MLP"
      ]
    },
    {
      "cell_type": "code",
      "execution_count": 16,
      "metadata": {},
      "outputs": [],
      "source": [
        "model_mlp = Sequential()"
      ]
    },
    {
      "cell_type": "code",
      "execution_count": 17,
      "metadata": {},
      "outputs": [],
      "source": [
        "model_mlp.add(Flatten(input_shape=(28,28)))"
      ]
    },
    {
      "cell_type": "code",
      "execution_count": 18,
      "metadata": {},
      "outputs": [],
      "source": [
        "model_mlp.add(Dense(256, activation='relu'))\n",
        "# model_mlp.add(Dropout(0.2))"
      ]
    },
    {
      "cell_type": "code",
      "execution_count": 19,
      "metadata": {},
      "outputs": [],
      "source": [
        "model_mlp.add(Dense(128, activation='relu'))\n",
        "# model_mlp.add(Dropout(0.2))"
      ]
    },
    {
      "cell_type": "code",
      "execution_count": 20,
      "metadata": {},
      "outputs": [],
      "source": [
        "model_mlp.add(Dense(10, activation='softmax'))"
      ]
    },
    {
      "cell_type": "code",
      "execution_count": 21,
      "metadata": {},
      "outputs": [
        {
          "name": "stdout",
          "output_type": "stream",
          "text": [
            "Model: \"sequential_1\"\n",
            "_________________________________________________________________\n",
            " Layer (type)                Output Shape              Param #   \n",
            "=================================================================\n",
            " flatten_1 (Flatten)         (None, 784)               0         \n",
            "                                                                 \n",
            " dense_1 (Dense)             (None, 256)               200960    \n",
            "                                                                 \n",
            " dense_2 (Dense)             (None, 128)               32896     \n",
            "                                                                 \n",
            " dense_3 (Dense)             (None, 10)                1290      \n",
            "                                                                 \n",
            "=================================================================\n",
            "Total params: 235,146\n",
            "Trainable params: 235,146\n",
            "Non-trainable params: 0\n",
            "_________________________________________________________________\n"
          ]
        }
      ],
      "source": [
        "model_mlp.summary()"
      ]
    },
    {
      "cell_type": "code",
      "execution_count": 22,
      "metadata": {},
      "outputs": [
        {
          "data": {
            "image/png": "[encoded data removed]",
            "text/plain": [
              "<IPython.core.display.Image object>"
            ]
          },
          "execution_count": 22,
          "metadata": {},
          "output_type": "execute_result"
        }
      ],
      "source": [
        "plot_model(model_mlp, show_shapes=True, show_layer_names=True, to_file='mlp_model.png')"
      ]
    },
    {
      "cell_type": "code",
      "execution_count": 23,
      "metadata": {},
      "outputs": [],
      "source": [
        "model_mlp.compile(loss='categorical_crossentropy', optimizer='adam', metrics=['accuracy'])"
      ]
    },
    {
      "cell_type": "code",
      "execution_count": 24,
      "metadata": {},
      "outputs": [
        {
          "name": "stdout",
          "output_type": "stream",
          "text": [
            "Epoch 1/20\n",
            "469/469 [==============================] - 1s 2ms/step - loss: 4.0789 - accuracy: 0.7551 - val_loss: 1.0929 - val_accuracy: 0.7730\n",
            "Epoch 2/20\n",
            "469/469 [==============================] - 1s 2ms/step - loss: 0.7561 - accuracy: 0.8036 - val_loss: 0.6835 - val_accuracy: 0.7897\n",
            "Epoch 3/20\n",
            "469/469 [==============================] - 1s 2ms/step - loss: 0.5234 - accuracy: 0.8342 - val_loss: 0.5393 - val_accuracy: 0.8279\n",
            "Epoch 4/20\n",
            "469/469 [==============================] - 1s 2ms/step - loss: 0.4387 - accuracy: 0.8499 - val_loss: 0.4881 - val_accuracy: 0.8323\n",
            "Epoch 5/20\n",
            "469/469 [==============================] - 1s 2ms/step - loss: 0.3966 - accuracy: 0.8611 - val_loss: 0.4646 - val_accuracy: 0.8472\n",
            "Epoch 6/20\n",
            "469/469 [==============================] - 1s 2ms/step - loss: 0.3670 - accuracy: 0.8680 - val_loss: 0.5310 - val_accuracy: 0.8288\n",
            "Epoch 7/20\n",
            "469/469 [==============================] - 1s 2ms/step - loss: 0.3534 - accuracy: 0.8716 - val_loss: 0.4787 - val_accuracy: 0.8424\n",
            "Epoch 8/20\n",
            "469/469 [==============================] - 1s 2ms/step - loss: 0.3328 - accuracy: 0.8787 - val_loss: 0.4304 - val_accuracy: 0.8536\n",
            "Epoch 9/20\n",
            "469/469 [==============================] - 1s 2ms/step - loss: 0.3323 - accuracy: 0.8787 - val_loss: 0.4253 - val_accuracy: 0.8563\n",
            "Epoch 10/20\n",
            "469/469 [==============================] - 1s 2ms/step - loss: 0.3201 - accuracy: 0.8833 - val_loss: 0.4062 - val_accuracy: 0.8594\n",
            "Epoch 11/20\n",
            "469/469 [==============================] - 1s 2ms/step - loss: 0.3174 - accuracy: 0.8825 - val_loss: 0.4086 - val_accuracy: 0.8660\n",
            "Epoch 12/20\n",
            "469/469 [==============================] - 1s 2ms/step - loss: 0.3088 - accuracy: 0.8872 - val_loss: 0.3844 - val_accuracy: 0.8692\n",
            "Epoch 13/20\n",
            "469/469 [==============================] - 1s 2ms/step - loss: 0.3114 - accuracy: 0.8855 - val_loss: 0.4003 - val_accuracy: 0.8628\n",
            "Epoch 14/20\n",
            "469/469 [==============================] - 1s 2ms/step - loss: 0.3022 - accuracy: 0.8894 - val_loss: 0.3830 - val_accuracy: 0.8664\n",
            "Epoch 15/20\n",
            "469/469 [==============================] - 1s 2ms/step - loss: 0.3028 - accuracy: 0.8906 - val_loss: 0.3905 - val_accuracy: 0.8707\n",
            "Epoch 16/20\n",
            "469/469 [==============================] - 1s 2ms/step - loss: 0.2950 - accuracy: 0.8922 - val_loss: 0.3980 - val_accuracy: 0.8665\n",
            "Epoch 17/20\n",
            "469/469 [==============================] - 1s 2ms/step - loss: 0.2885 - accuracy: 0.8932 - val_loss: 0.4331 - val_accuracy: 0.8517\n",
            "Epoch 18/20\n",
            "469/469 [==============================] - 1s 2ms/step - loss: 0.2865 - accuracy: 0.8947 - val_loss: 0.4072 - val_accuracy: 0.8657\n",
            "Epoch 19/20\n",
            "469/469 [==============================] - 1s 2ms/step - loss: 0.2798 - accuracy: 0.8975 - val_loss: 0.3590 - val_accuracy: 0.8768\n",
            "Epoch 20/20\n",
            "469/469 [==============================] - 1s 2ms/step - loss: 0.2779 - accuracy: 0.8978 - val_loss: 0.3836 - val_accuracy: 0.8742\n"
          ]
        }
      ],
      "source": [
        "history_mlp = model_mlp.fit(x=train_X, y=y_sparse_train, validation_data=(test_X, y_sparse_test), batch_size=128, epochs=20)"
      ]
    },
    {
      "attachments": {},
      "cell_type": "markdown",
      "metadata": {},
      "source": [
        "## Metrics"
      ]
    },
    {
      "cell_type": "code",
      "execution_count": 25,
      "metadata": {},
      "outputs": [
        {
          "name": "stdout",
          "output_type": "stream",
          "text": [
            "313/313 [==============================] - 0s 765us/step\n",
            "313/313 [==============================] - 0s 867us/step\n",
            "Softmax Regression:\n",
            "  Accuracy: 0.8125666379928589\n",
            "  ROC AUC: 0.9700411777777778\n",
            "  F1-score (macro): 0.7719321175959359\n",
            "  F1-score (micro): 0.7761\n",
            "  Precision: 0.8091041282257908\n",
            "  Recall: 0.7760999999999999\n",
            "\n",
            "MLP:\n",
            "  Accuracy: 0.897766649723053\n",
            "  ROC AUC: 0.9894824222222223\n",
            "  F1-score (macro): 0.874396042352268\n",
            "  F1-score (micro): 0.8742\n",
            "  Precision: 0.8767927823941282\n",
            "  Recall: 0.8741999999999999\n"
          ]
        }
      ],
      "source": [
        "# Softmax Regression evaluation\n",
        "y_pred_softmax = model_softmax.predict(test_X)\n",
        "roc_auc_softmax = roc_auc_score(y_sparse_test, y_pred_softmax, multi_class='ovr', average='macro')\n",
        "f1_macro_softmax = f1_score(y_sparse_test.argmax(axis=1), y_pred_softmax.argmax(axis=1), average='macro')\n",
        "f1_micro_softmax = f1_score(y_sparse_test.argmax(axis=1), y_pred_softmax.argmax(axis=1), average='micro')\n",
        "precision_softmax = precision_score(y_sparse_test.argmax(axis=1), y_pred_softmax.argmax(axis=1), average='macro')\n",
        "recall_softmax = recall_score(y_sparse_test.argmax(axis=1), y_pred_softmax.argmax(axis=1), average='macro')\n",
        "\n",
        "# MLP evaluation\n",
        "y_pred_mlp = model_mlp.predict(test_X)\n",
        "roc_auc_mlp = roc_auc_score(y_sparse_test, y_pred_mlp, multi_class='ovr', average='macro')\n",
        "f1_macro_mlp = f1_score(y_sparse_test.argmax(axis=1), y_pred_mlp.argmax(axis=1), average='macro')\n",
        "f1_micro_mlp = f1_score(y_sparse_test.argmax(axis=1), y_pred_mlp.argmax(axis=1), average='micro')\n",
        "precision_mlp = precision_score(y_sparse_test.argmax(axis=1), y_pred_mlp.argmax(axis=1), average='macro')\n",
        "recall_mlp = recall_score(y_sparse_test.argmax(axis=1), y_pred_mlp.argmax(axis=1), average='macro')\n",
        "\n",
        "# Print the evaluation metrics\n",
        "print(\"Softmax Regression:\")\n",
        "print(\"  Accuracy:\", history_softmax.history['accuracy'][-1])\n",
        "print(\"  ROC AUC:\", roc_auc_softmax)\n",
        "print(\"  F1-score (macro):\", f1_macro_softmax)\n",
        "print(\"  F1-score (micro):\", f1_micro_softmax)\n",
        "print(\"  Precision:\", precision_softmax)\n",
        "print(\"  Recall:\", recall_softmax)\n",
        "\n",
        "print(\"\\nMLP:\")\n",
        "print(\"  Accuracy:\", history_mlp.history['accuracy'][-1])\n",
        "print(\"  ROC AUC:\", roc_auc_mlp)\n",
        "print(\"  F1-score (macro):\", f1_macro_mlp)\n",
        "print(\"  F1-score (micro):\", f1_micro_mlp)\n",
        "print(\"  Precision:\", precision_mlp)\n",
        "print(\"  Recall:\", recall_mlp)"
      ]
    }
  ],
  "metadata": {
    "colab": {
      "provenance": []
    },
    "kernelspec": {
      "display_name": "Python 3",
      "name": "python3"
    },
    "language_info": {
      "codemirror_mode": {
        "name": "ipython",
        "version": 3
      },
      "file_extension": ".py",
      "mimetype": "text/x-python",
      "name": "python",
      "nbconvert_exporter": "python",
      "pygments_lexer": "ipython3",
      "version": "3.10.11"
    }
  },
  "nbformat": 4,
  "nbformat_minor": 0
}
