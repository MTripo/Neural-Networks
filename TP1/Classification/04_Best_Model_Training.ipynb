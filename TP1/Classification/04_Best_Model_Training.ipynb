{
  "cells": [
    {
      "cell_type": "code",
      "execution_count": 1,
      "metadata": {},
      "outputs": [],
      "source": [
        "%load_ext autoreload\n",
        "%autoreload 2"
      ]
    },
    {
      "cell_type": "code",
      "execution_count": 2,
      "metadata": {
        "id": "JxCoqneHzZWv"
      },
      "outputs": [],
      "source": [
        "from keras.datasets import fashion_mnist\n",
        "import numpy as np\n",
        "from matplotlib import pyplot as plt\n",
        "from data_augmentation import data_augmentation\n",
        "from metrics import plot_ROC_curve, plot_confusion_matrix\n",
        "from models import create_mlp_model, plot_accuracy, plot_loss\n",
        "from tensorflow import keras"
      ]
    },
    {
      "cell_type": "code",
      "execution_count": 3,
      "metadata": {
        "colab": {
          "base_uri": "https://localhost:8080/"
        },
        "id": "pV2lRjoRzhMp",
        "outputId": "09ef645e-5429-48bc-f417-675b9dc915cf"
      },
      "outputs": [],
      "source": [
        "(X_train, y_train), (X_test, y_test) = fashion_mnist.load_data()"
      ]
    },
    {
      "cell_type": "code",
      "execution_count": 4,
      "metadata": {},
      "outputs": [],
      "source": [
        "class_names = ['T-shirt/top', 'Trouser', 'Pullover', 'Dress', 'Coat',\n",
        "               'Sandal', 'Shirt', 'Sneaker', 'Bag', 'Ankle boot']"
      ]
    },
    {
      "attachments": {},
      "cell_type": "markdown",
      "metadata": {},
      "source": [
        "### Sparse arrays"
      ]
    },
    {
      "cell_type": "code",
      "execution_count": 5,
      "metadata": {
        "id": "t1StqxwHzuOT"
      },
      "outputs": [],
      "source": [
        "y_sparse_train = np.zeros([len(y_train),10])\n",
        "y_sparse_test = np.zeros([len(y_test),10])"
      ]
    },
    {
      "cell_type": "code",
      "execution_count": 6,
      "metadata": {
        "id": "KpuMnQff0lW2"
      },
      "outputs": [],
      "source": [
        "for idx in range(len(y_train)):\n",
        "    y_sparse_train[idx,y_train[idx]] = 1\n",
        "\n",
        "for idx in range(len(y_test)):\n",
        "    y_sparse_test[idx,y_test[idx]] = 1"
      ]
    },
    {
      "attachments": {},
      "cell_type": "markdown",
      "metadata": {},
      "source": [
        "## Models"
      ]
    },
    {
      "cell_type": "code",
      "execution_count": 7,
      "metadata": {
        "id": "hkpldhHi0Ymr"
      },
      "outputs": [],
      "source": [
        "from sklearn.metrics import roc_auc_score, f1_score, precision_score, recall_score, confusion_matrix\n",
        "from keras.layers import Dense, Dropout, BatchNormalization, Flatten\n",
        "from keras.optimizers import Adam, RMSprop, SGD, Adagrad, Adadelta, Adamax, Nadam\n",
        "from keras.models import Sequential\n",
        "from keras.utils import plot_model\n",
        "from keras.initializers import GlorotUniform, GlorotNormal, RandomNormal\n",
        "from keras.backend import clear_session\n",
        "from keras.models import clone_model"
      ]
    },
    {
      "attachments": {},
      "cell_type": "markdown",
      "metadata": {},
      "source": [
        "### Softmax Regression"
      ]
    },
    {
      "cell_type": "code",
      "execution_count": 8,
      "metadata": {},
      "outputs": [],
      "source": [
        "model_1 = Sequential()"
      ]
    },
    {
      "cell_type": "code",
      "execution_count": 9,
      "metadata": {},
      "outputs": [],
      "source": [
        "model_1.add(Flatten(input_shape=(28,28)))"
      ]
    },
    {
      "cell_type": "code",
      "execution_count": 10,
      "metadata": {},
      "outputs": [],
      "source": [
        "model_1.add(BatchNormalization())"
      ]
    },
    {
      "cell_type": "code",
      "execution_count": 11,
      "metadata": {},
      "outputs": [],
      "source": [
        "model_1.add(Dense(256, activation=\"relu\"))"
      ]
    },
    {
      "cell_type": "code",
      "execution_count": 12,
      "metadata": {},
      "outputs": [],
      "source": [
        "model_1.add(Dropout(0.125))"
      ]
    },
    {
      "cell_type": "code",
      "execution_count": 13,
      "metadata": {},
      "outputs": [],
      "source": [
        "model_1.add(Dense(128, activation=\"relu\"))"
      ]
    },
    {
      "cell_type": "code",
      "execution_count": 14,
      "metadata": {},
      "outputs": [],
      "source": [
        "model_1.add(Dense(10, activation=\"softmax\"))"
      ]
    },
    {
      "cell_type": "code",
      "execution_count": 15,
      "metadata": {},
      "outputs": [
        {
          "name": "stdout",
          "output_type": "stream",
          "text": [
            "Model: \"sequential\"\n",
            "_________________________________________________________________\n",
            " Layer (type)                Output Shape              Param #   \n",
            "=================================================================\n",
            " flatten (Flatten)           (None, 784)               0         \n",
            "                                                                 \n",
            " batch_normalization (BatchN  (None, 784)              3136      \n",
            " ormalization)                                                   \n",
            "                                                                 \n",
            " dense (Dense)               (None, 256)               200960    \n",
            "                                                                 \n",
            " dropout (Dropout)           (None, 256)               0         \n",
            "                                                                 \n",
            " dense_1 (Dense)             (None, 128)               32896     \n",
            "                                                                 \n",
            " dense_2 (Dense)             (None, 10)                1290      \n",
            "                                                                 \n",
            "=================================================================\n",
            "Total params: 238,282\n",
            "Trainable params: 236,714\n",
            "Non-trainable params: 1,568\n",
            "_________________________________________________________________\n"
          ]
        }
      ],
      "source": [
        "model_1.summary()"
      ]
    },
    {
      "cell_type": "code",
      "execution_count": 16,
      "metadata": {},
      "outputs": [],
      "source": [
        "model_1.compile(loss=\"categorical_crossentropy\", optimizer=Adam(learning_rate=0.001), metrics=['accuracy'])"
      ]
    },
    {
      "attachments": {},
      "cell_type": "markdown",
      "metadata": {},
      "source": [
        "### Train"
      ]
    },
    {
      "cell_type": "code",
      "execution_count": 17,
      "metadata": {},
      "outputs": [],
      "source": [
        "model_2 = clone_model(model_1)"
      ]
    },
    {
      "cell_type": "code",
      "execution_count": 18,
      "metadata": {},
      "outputs": [],
      "source": [
        "model_2.compile(loss=\"categorical_crossentropy\", optimizer=Adam(learning_rate=0.001), metrics=['accuracy'])"
      ]
    },
    {
      "cell_type": "code",
      "execution_count": 19,
      "metadata": {},
      "outputs": [
        {
          "name": "stdout",
          "output_type": "stream",
          "text": [
            "Epoch 1/20\n",
            "469/469 [==============================] - 2s 3ms/step - loss: 0.4693 - accuracy: 0.8318 - val_loss: 0.4124 - val_accuracy: 0.8474\n",
            "Epoch 2/20\n",
            "469/469 [==============================] - 1s 3ms/step - loss: 0.3472 - accuracy: 0.8730 - val_loss: 0.3611 - val_accuracy: 0.8663\n",
            "Epoch 3/20\n",
            "469/469 [==============================] - 1s 3ms/step - loss: 0.3087 - accuracy: 0.8856 - val_loss: 0.3388 - val_accuracy: 0.8761\n",
            "Epoch 4/20\n",
            "469/469 [==============================] - 1s 3ms/step - loss: 0.2829 - accuracy: 0.8948 - val_loss: 0.3237 - val_accuracy: 0.8850\n",
            "Epoch 5/20\n",
            "469/469 [==============================] - 1s 3ms/step - loss: 0.2676 - accuracy: 0.8996 - val_loss: 0.3378 - val_accuracy: 0.8788\n",
            "Epoch 6/20\n",
            "469/469 [==============================] - 1s 3ms/step - loss: 0.2475 - accuracy: 0.9070 - val_loss: 0.3106 - val_accuracy: 0.8880\n",
            "Epoch 7/20\n",
            "469/469 [==============================] - 1s 3ms/step - loss: 0.2334 - accuracy: 0.9125 - val_loss: 0.3242 - val_accuracy: 0.8860\n",
            "Epoch 8/20\n",
            "469/469 [==============================] - 1s 3ms/step - loss: 0.2209 - accuracy: 0.9165 - val_loss: 0.3220 - val_accuracy: 0.8888\n",
            "Epoch 9/20\n",
            "469/469 [==============================] - 1s 3ms/step - loss: 0.2100 - accuracy: 0.9220 - val_loss: 0.3320 - val_accuracy: 0.8906\n",
            "Epoch 10/20\n",
            "469/469 [==============================] - 1s 3ms/step - loss: 0.2040 - accuracy: 0.9231 - val_loss: 0.3268 - val_accuracy: 0.8874\n",
            "Epoch 11/20\n",
            "469/469 [==============================] - 1s 3ms/step - loss: 0.1892 - accuracy: 0.9282 - val_loss: 0.3259 - val_accuracy: 0.8909\n",
            "Epoch 12/20\n",
            "469/469 [==============================] - 1s 3ms/step - loss: 0.1829 - accuracy: 0.9301 - val_loss: 0.3400 - val_accuracy: 0.8909\n",
            "Epoch 13/20\n",
            "469/469 [==============================] - 1s 3ms/step - loss: 0.1792 - accuracy: 0.9327 - val_loss: 0.3288 - val_accuracy: 0.8945\n",
            "Epoch 14/20\n",
            "469/469 [==============================] - 1s 3ms/step - loss: 0.1656 - accuracy: 0.9371 - val_loss: 0.3395 - val_accuracy: 0.8938\n",
            "Epoch 15/20\n",
            "469/469 [==============================] - 1s 3ms/step - loss: 0.1626 - accuracy: 0.9380 - val_loss: 0.3370 - val_accuracy: 0.8933\n",
            "Epoch 16/20\n",
            "469/469 [==============================] - 1s 3ms/step - loss: 0.1523 - accuracy: 0.9415 - val_loss: 0.3445 - val_accuracy: 0.8952\n",
            "Epoch 17/20\n",
            "469/469 [==============================] - 1s 3ms/step - loss: 0.1469 - accuracy: 0.9448 - val_loss: 0.3672 - val_accuracy: 0.8929\n",
            "Epoch 18/20\n",
            "469/469 [==============================] - 1s 3ms/step - loss: 0.1425 - accuracy: 0.9463 - val_loss: 0.3598 - val_accuracy: 0.8953\n",
            "Epoch 19/20\n",
            "469/469 [==============================] - 1s 3ms/step - loss: 0.1348 - accuracy: 0.9495 - val_loss: 0.3672 - val_accuracy: 0.8964\n",
            "Epoch 20/20\n",
            "469/469 [==============================] - 1s 3ms/step - loss: 0.1328 - accuracy: 0.9503 - val_loss: 0.3712 - val_accuracy: 0.8942\n"
          ]
        }
      ],
      "source": [
        "history_2 = model_2.fit(x=X_train, y=y_sparse_train, validation_data=(X_test, y_sparse_test), batch_size=128, epochs=20)"
      ]
    },
    {
      "cell_type": "code",
      "execution_count": 20,
      "metadata": {},
      "outputs": [],
      "source": [
        "# Get weights from model 1 and model 2\n",
        "weights_1 = model_1.get_weights()\n",
        "weights_2 = model_2.get_weights()\n",
        "\n",
        "# Get the difference between the weights\n",
        "weights_diff = []\n",
        "\n",
        "for idx in range(len(weights_1)):\n",
        "    weights_diff.append(weights_1[idx] - weights_2[idx])\n",
        "\n",
        "# Get the 50% of the weights that changed the most from each layer\n",
        "weights_3 = []\n",
        "\n",
        "for idx in range(len(weights_diff)):\n",
        "    weights_3.append(np.where(weights_diff[idx] > np.percentile(weights_diff[idx], 50), weights_2[idx], 0))\n",
        "\n",
        "# Create model 3 with the weights that changed the most\n",
        "model_3 = clone_model(model_1)\n",
        "\n",
        "model_3.set_weights(weights_3)\n",
        "\n",
        "model_3.compile(loss=\"categorical_crossentropy\", optimizer=Adam(learning_rate=0.001), metrics=['accuracy'])"
      ]
    },
    {
      "cell_type": "code",
      "execution_count": 21,
      "metadata": {},
      "outputs": [
        {
          "name": "stdout",
          "output_type": "stream",
          "text": [
            "Test accuracy for model 3: 0.11339999735355377\n"
          ]
        }
      ],
      "source": [
        "score_3 = model_3.evaluate(X_test, y_sparse_test, verbose=0)\n",
        "print('Test accuracy for model 3:', score_3[1])"
      ]
    },
    {
      "cell_type": "code",
      "execution_count": 22,
      "metadata": {},
      "outputs": [
        {
          "name": "stdout",
          "output_type": "stream",
          "text": [
            "Epoch 1/20\n",
            "469/469 [==============================] - 2s 3ms/step - loss: 0.7692 - accuracy: 0.7107 - val_loss: 0.4438 - val_accuracy: 0.8368\n",
            "Epoch 2/20\n",
            "469/469 [==============================] - 1s 3ms/step - loss: 0.3815 - accuracy: 0.8599 - val_loss: 0.3651 - val_accuracy: 0.8656\n",
            "Epoch 3/20\n",
            "469/469 [==============================] - 1s 3ms/step - loss: 0.3234 - accuracy: 0.8800 - val_loss: 0.3488 - val_accuracy: 0.8740\n",
            "Epoch 4/20\n",
            "469/469 [==============================] - 1s 3ms/step - loss: 0.2936 - accuracy: 0.8900 - val_loss: 0.3298 - val_accuracy: 0.8811\n",
            "Epoch 5/20\n",
            "469/469 [==============================] - 1s 3ms/step - loss: 0.2732 - accuracy: 0.8974 - val_loss: 0.3255 - val_accuracy: 0.8815\n",
            "Epoch 6/20\n",
            "469/469 [==============================] - 1s 3ms/step - loss: 0.2530 - accuracy: 0.9043 - val_loss: 0.3165 - val_accuracy: 0.8856\n",
            "Epoch 7/20\n",
            "469/469 [==============================] - 1s 3ms/step - loss: 0.2402 - accuracy: 0.9090 - val_loss: 0.3159 - val_accuracy: 0.8887\n",
            "Epoch 8/20\n",
            "469/469 [==============================] - 1s 3ms/step - loss: 0.2253 - accuracy: 0.9154 - val_loss: 0.3127 - val_accuracy: 0.8918\n",
            "Epoch 9/20\n",
            "469/469 [==============================] - 1s 3ms/step - loss: 0.2120 - accuracy: 0.9201 - val_loss: 0.3268 - val_accuracy: 0.8867\n",
            "Epoch 10/20\n",
            "469/469 [==============================] - 1s 3ms/step - loss: 0.2059 - accuracy: 0.9210 - val_loss: 0.3250 - val_accuracy: 0.8901\n",
            "Epoch 11/20\n",
            "469/469 [==============================] - 1s 3ms/step - loss: 0.1953 - accuracy: 0.9253 - val_loss: 0.3211 - val_accuracy: 0.8943\n",
            "Epoch 12/20\n",
            "469/469 [==============================] - 1s 3ms/step - loss: 0.1874 - accuracy: 0.9291 - val_loss: 0.3211 - val_accuracy: 0.8941\n",
            "Epoch 13/20\n",
            "469/469 [==============================] - 1s 3ms/step - loss: 0.1793 - accuracy: 0.9313 - val_loss: 0.3241 - val_accuracy: 0.8922\n",
            "Epoch 14/20\n",
            "469/469 [==============================] - 1s 3ms/step - loss: 0.1727 - accuracy: 0.9350 - val_loss: 0.3414 - val_accuracy: 0.8904\n",
            "Epoch 15/20\n",
            "469/469 [==============================] - 1s 3ms/step - loss: 0.1660 - accuracy: 0.9362 - val_loss: 0.3330 - val_accuracy: 0.8919\n",
            "Epoch 16/20\n",
            "469/469 [==============================] - 1s 3ms/step - loss: 0.1582 - accuracy: 0.9398 - val_loss: 0.3370 - val_accuracy: 0.8943\n",
            "Epoch 17/20\n",
            "469/469 [==============================] - 1s 3ms/step - loss: 0.1529 - accuracy: 0.9423 - val_loss: 0.3391 - val_accuracy: 0.8944\n",
            "Epoch 18/20\n",
            "469/469 [==============================] - 1s 3ms/step - loss: 0.1434 - accuracy: 0.9464 - val_loss: 0.3442 - val_accuracy: 0.8968\n",
            "Epoch 19/20\n",
            "469/469 [==============================] - 1s 3ms/step - loss: 0.1399 - accuracy: 0.9466 - val_loss: 0.3457 - val_accuracy: 0.8937\n",
            "Epoch 20/20\n",
            "469/469 [==============================] - 1s 3ms/step - loss: 0.1346 - accuracy: 0.9504 - val_loss: 0.3506 - val_accuracy: 0.8946\n"
          ]
        }
      ],
      "source": [
        "# Train model 3\n",
        "history_3 = model_3.fit(x=X_train, y=y_sparse_train, validation_data=(X_test, y_sparse_test), batch_size=128, epochs=20)"
      ]
    },
    {
      "cell_type": "code",
      "execution_count": 25,
      "metadata": {},
      "outputs": [
        {
          "data": {
            "image/png": "[encoded data removed]",
            "text/plain": [
              "<Figure size 1000x500 with 1 Axes>"
            ]
          },
          "metadata": {},
          "output_type": "display_data"
        }
      ],
      "source": [
        "# Plot accuracy\n",
        "plt.figure(figsize=(10,5))\n",
        "plt.plot(history_2.history['accuracy'])\n",
        "plt.plot(history_2.history['val_accuracy'])\n",
        "plt.plot(history_3.history['accuracy'])\n",
        "plt.plot(history_3.history['val_accuracy'])\n",
        "plt.title('Model accuracy')\n",
        "plt.ylabel('Accuracy')\n",
        "plt.xlabel('Epoch')\n",
        "plt.legend(['Train model 2', 'Test model 2', 'Train model 3', 'Test model 3'], loc='lower right')\n",
        "plt.grid()\n",
        "plt.show()"
      ]
    }
  ],
  "metadata": {
    "colab": {
      "provenance": []
    },
    "kernelspec": {
      "display_name": "Python 3",
      "name": "python3"
    },
    "language_info": {
      "codemirror_mode": {
        "name": "ipython",
        "version": 3
      },
      "file_extension": ".py",
      "mimetype": "text/x-python",
      "name": "python",
      "nbconvert_exporter": "python",
      "pygments_lexer": "ipython3",
      "version": "3.10.11"
    }
  },
  "nbformat": 4,
  "nbformat_minor": 0
}
